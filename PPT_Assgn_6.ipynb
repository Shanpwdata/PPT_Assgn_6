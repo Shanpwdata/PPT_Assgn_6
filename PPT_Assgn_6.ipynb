{
 "cells": [
  {
   "cell_type": "markdown",
   "id": "2ab38557-d739-45c5-83be-477a23abff09",
   "metadata": {},
   "source": [
    "💡 **Question 1**\n",
    "\n",
    "A permutation perm of n + 1 integers of all the integers in the range [0, n] can be represented as a string s of length n where:\n",
    "\n",
    "- s[i] == 'I' if perm[i] < perm[i + 1], and\n",
    "- s[i] == 'D' if perm[i] > perm[i + 1].\n",
    "\n",
    "Given a string s, reconstruct the permutation perm and return it. If there are multiple valid permutations perm, return **any of them**.\n",
    "\n",
    "**Example 1:**\n",
    "\n",
    "**Input:** s = \"IDID\"\n",
    "\n",
    "**Output:**\n",
    "\n",
    "[0,4,1,3,2]"
   ]
  },
  {
   "cell_type": "code",
   "execution_count": 1,
   "id": "012fd841-225d-465b-9d79-00209f43ef84",
   "metadata": {},
   "outputs": [],
   "source": [
    "###Ans_1.\n",
    "def Permutation(s):\n",
    "    n = len(s)\n",
    "    perm = []\n",
    "    low, high = 0, n\n",
    "\n",
    "    for ch in s:\n",
    "        if ch == 'I':\n",
    "            perm.append(low)\n",
    "            low += 1\n",
    "        elif ch == 'D':\n",
    "            perm.append(high)\n",
    "            high -= 1\n",
    "\n",
    "    perm.append(low)\n",
    "\n",
    "    return perm"
   ]
  },
  {
   "cell_type": "code",
   "execution_count": 2,
   "id": "aa1a2015-1c1f-483b-a289-657b32d3f9d7",
   "metadata": {},
   "outputs": [
    {
     "data": {
      "text/plain": [
       "[0, 4, 1, 3, 2]"
      ]
     },
     "execution_count": 2,
     "metadata": {},
     "output_type": "execute_result"
    }
   ],
   "source": [
    "Permutation(\"IDID\")"
   ]
  },
  {
   "cell_type": "markdown",
   "id": "cf62cf62-fe4d-4e93-8c43-5e66ca518d21",
   "metadata": {},
   "source": [
    "💡 **Question 2**\n",
    "\n",
    "You are given an m x n integer matrix matrix with the following two properties:\n",
    "\n",
    "- Each row is sorted in non-decreasing order.\n",
    "- The first integer of each row is greater than the last integer of the previous row.\n",
    "\n",
    "Given an integer target, return true *if* target *is in* matrix *or* false *otherwise*.\n",
    "\n",
    "You must write a solution in O(log(m * n)) time complexity.\n",
    "\n",
    "**Example 1:**\n",
    "\n",
    "**Input:** matrix = [[1,3,5,7],[10,11,16,20],[23,30,34,60]], target = 3\n",
    "\n",
    "**Output:** true"
   ]
  },
  {
   "cell_type": "code",
   "execution_count": 3,
   "id": "0f632784-ee73-4f40-9909-d2f5e2d919ef",
   "metadata": {},
   "outputs": [],
   "source": [
    "###Ans_2.\n",
    "def matrix(matrix, target):\n",
    "    m = len(matrix)\n",
    "    n = len(matrix[0])\n",
    "    left = 0\n",
    "    right = m * n - 1\n",
    "\n",
    "    while left <= right:\n",
    "        mid = (left + right) // 2\n",
    "        row = mid // n\n",
    "        col = mid % n\n",
    "        if matrix[row][col] == target:\n",
    "            return True\n",
    "        elif matrix[row][col] < target:\n",
    "            left = mid + 1\n",
    "        else:\n",
    "            right = mid - 1\n",
    "\n",
    "    return False"
   ]
  },
  {
   "cell_type": "code",
   "execution_count": 4,
   "id": "e10d6647-d189-4673-a7de-0221edd8dc06",
   "metadata": {},
   "outputs": [
    {
     "data": {
      "text/plain": [
       "True"
      ]
     },
     "execution_count": 4,
     "metadata": {},
     "output_type": "execute_result"
    }
   ],
   "source": [
    "matrix([[1,3,5,7],[10,11,16,20],[23,30,34,60]], 3)"
   ]
  },
  {
   "cell_type": "markdown",
   "id": "668e2393-e2ed-4469-94bb-84e7804ad067",
   "metadata": {},
   "source": [
    "💡 **Question 3**\n",
    "\n",
    "Given an array of integers arr, return *true if and only if it is a valid mountain array*.\n",
    "\n",
    "Recall that arr is a mountain array if and only if:\n",
    "\n",
    "- arr.length >= 3\n",
    "- There exists some i with 0 < i < arr.length - 1 such that:\n",
    "    - arr[0] < arr[1] < ... < arr[i - 1] < arr[i]\n",
    "    - arr[i] > arr[i + 1] > ... > arr[arr.length - 1]\n",
    "\n",
    "**Example 1:**\n",
    "\n",
    "**Input:** arr = [2,1]\n",
    "\n",
    "**Output:**\n",
    "\n",
    "false"
   ]
  },
  {
   "cell_type": "code",
   "execution_count": 5,
   "id": "34f10b16-8b15-47c8-a0df-3c7243336a11",
   "metadata": {},
   "outputs": [],
   "source": [
    "###Ans_3.\n",
    "def array(arr):\n",
    "    if len(arr) < 3:\n",
    "        return False\n",
    "\n",
    "    left = 0\n",
    "    right = len(arr) - 1\n",
    "\n",
    "    while left < right:\n",
    "        if arr[left] < arr[left + 1]:\n",
    "            left += 1\n",
    "        elif arr[right] < arr[right - 1]:\n",
    "            right -= 1\n",
    "        else:\n",
    "            return False\n",
    "\n",
    "    return left == right and left != 0 and right != len(arr) - 1"
   ]
  },
  {
   "cell_type": "code",
   "execution_count": 6,
   "id": "a97e4a74-9034-481e-9ca1-ecb0782d2156",
   "metadata": {},
   "outputs": [
    {
     "data": {
      "text/plain": [
       "False"
      ]
     },
     "execution_count": 6,
     "metadata": {},
     "output_type": "execute_result"
    }
   ],
   "source": [
    "array([2,1])"
   ]
  },
  {
   "cell_type": "markdown",
   "id": "b2b38861-03d2-4c00-9f6d-57421ce64114",
   "metadata": {},
   "source": [
    "💡 **Question 4**\n",
    "\n",
    "Given a binary array nums, return *the maximum length of a contiguous subarray with an equal number of* 0 *and* 1.\n",
    "\n",
    "**Example 1:**\n",
    "\n",
    "**Input:** nums = [0,1]\n",
    "\n",
    "**Output:** 2\n",
    "\n",
    "**Explanation:**\n",
    "\n",
    "[0, 1] is the longest contiguous subarray with an equal number of 0 and 1."
   ]
  },
  {
   "cell_type": "code",
   "execution_count": 7,
   "id": "af9c9b04-f66d-49c9-8b25-6e808227719d",
   "metadata": {},
   "outputs": [],
   "source": [
    "###Ans_4.\n",
    "def max_length(nums):\n",
    "    max_len = 0\n",
    "    count = 0\n",
    "    count_map = {0: -1}\n",
    "\n",
    "    for i in range(len(nums)):\n",
    "        if nums[i] == 1:\n",
    "            count += 1\n",
    "        else:\n",
    "            count -= 1\n",
    "\n",
    "        if count in count_map:\n",
    "            l = i - count_map[count]\n",
    "            max_len = max(max_len, l)\n",
    "        else:\n",
    "            count_map[count] = i\n",
    "\n",
    "    return max_len"
   ]
  },
  {
   "cell_type": "code",
   "execution_count": 8,
   "id": "883e9a11-1042-4925-9445-3d73a09328f8",
   "metadata": {},
   "outputs": [
    {
     "data": {
      "text/plain": [
       "2"
      ]
     },
     "execution_count": 8,
     "metadata": {},
     "output_type": "execute_result"
    }
   ],
   "source": [
    "max_length([0,1])"
   ]
  },
  {
   "cell_type": "markdown",
   "id": "e864a724-a9d0-418e-a693-8e57b5465e1b",
   "metadata": {},
   "source": [
    "💡 **Question 5**\n",
    "\n",
    "The **product sum** of two equal-length arrays a and b is equal to the sum of a[i] * b[i] for all 0 <= i < a.length (**0-indexed**).\n",
    "\n",
    "- For example, if a = [1,2,3,4] and b = [5,2,3,1], the **product sum** would be 1*5 + 2*2 + 3*3 + 4*1 = 22.\n",
    "\n",
    "Given two arrays nums1 and nums2 of length n, return *the **minimum product sum** if you are allowed to **rearrange** the **order** of the elements in* nums1.\n",
    "\n",
    "**Example 1:**\n",
    "\n",
    "**Input:** nums1 = [5,3,4,2], nums2 = [4,2,2,5]\n",
    "\n",
    "**Output:** 40\n",
    "\n",
    "**Explanation:**\n",
    "\n",
    "We can rearrange nums1 to become [3,5,4,2]. The product sum of [3,5,4,2] and [4,2,2,5] is 3*4 + 5*2 + 4*2 + 2*5 = 40."
   ]
  },
  {
   "cell_type": "code",
   "execution_count": 9,
   "id": "87af07f1-3840-47a3-a76d-939e2b9c3cd3",
   "metadata": {},
   "outputs": [],
   "source": [
    "###Ans_5.\n",
    "def product_sum(nums1, nums2):\n",
    "    nums1.sort()\n",
    "    nums2.sort()\n",
    "    min_sum = 0\n",
    "    n = len(nums1)\n",
    "\n",
    "    for i in range(n):\n",
    "        min_sum += nums1[i] * nums2[n - i - 1]\n",
    "\n",
    "    return min_sum"
   ]
  },
  {
   "cell_type": "code",
   "execution_count": 10,
   "id": "c5d7cce0-065d-4ff3-95a4-b29a30e903b9",
   "metadata": {},
   "outputs": [
    {
     "data": {
      "text/plain": [
       "40"
      ]
     },
     "execution_count": 10,
     "metadata": {},
     "output_type": "execute_result"
    }
   ],
   "source": [
    "product_sum([5,3,4,2],[4,2,2,5])"
   ]
  },
  {
   "cell_type": "markdown",
   "id": "3500af82-ea54-48bf-bfe7-436a65142d54",
   "metadata": {},
   "source": [
    "💡 **Question 6**\n",
    "\n",
    "An integer array original is transformed into a **doubled** array changed by appending **twice the value** of every element in original, and then randomly **shuffling** the resulting array.\n",
    "\n",
    "Given an array changed, return original *if* changed *is a **doubled** array. If* changed *is not a **doubled** array, return an empty array. The elements in* original *may be returned in **any** order*.\n",
    "\n",
    "**Example 1:**\n",
    "\n",
    "**Input:** changed = [1,3,4,2,6,8]\n",
    "\n",
    "**Output:** [1,3,4]\n",
    "\n",
    "**Explanation:** One possible original array could be [1,3,4]:\n",
    "\n",
    "- Twice the value of 1 is 1 * 2 = 2.\n",
    "- Twice the value of 3 is 3 * 2 = 6.\n",
    "- Twice the value of 4 is 4 * 2 = 8.\n",
    "\n",
    "Other original arrays could be [4,3,1] or [3,1,4]."
   ]
  },
  {
   "cell_type": "code",
   "execution_count": 11,
   "id": "6bd4d180-dff6-4933-9e44-9d15b2df95a8",
   "metadata": {},
   "outputs": [],
   "source": [
    "##Ans_6.\n",
    "def findOriginalArray(changed):\n",
    "\n",
    "\tif len(changed) % 2 != 0:\n",
    "\t\treturn []\n",
    "\n",
    "\tchanged = sorted(changed)\n",
    "\n",
    "\tresult = []\n",
    "\td = {}\n",
    "\n",
    "\tfor i in changed:\n",
    "\t\tif i not in d:\n",
    "\t\t\td[i] = 1\n",
    "\t\telse:\n",
    "\t\t\td[i] = d[i] + 1\n",
    "\n",
    "\tfor num in changed:\n",
    "\t\tdouble  = num * 2\n",
    "\n",
    "\t\tif num in d and double in d:\n",
    "\n",
    "\t\t\tif num == 0 and d[num] >= 2:\n",
    "\t\t\t\td[num] = d[num] - 2\n",
    "\t\t\t\tresult.append(num)\n",
    "\n",
    "\t\t\telif num > 0 and d[num] and d[double]:\n",
    "\t\t\t\td[num] = d[num] - 1\n",
    "\t\t\t\td[double] = d[double] - 1\n",
    "\n",
    "\t\t\t\tresult.append(num)\n",
    "\n",
    "\tif len(changed) // 2 == len(result):\n",
    "\t\treturn result\n",
    "\telse:\n",
    "\t\treturn []"
   ]
  },
  {
   "cell_type": "code",
   "execution_count": 12,
   "id": "cf0bfe9b-84d7-4831-98c7-0cde86d9bf6e",
   "metadata": {},
   "outputs": [
    {
     "data": {
      "text/plain": [
       "[1, 3, 4]"
      ]
     },
     "execution_count": 12,
     "metadata": {},
     "output_type": "execute_result"
    }
   ],
   "source": [
    "findOriginalArray([1,3,4,2,6,8])"
   ]
  },
  {
   "cell_type": "markdown",
   "id": "5922e597-ed48-48fd-ba64-e72555056534",
   "metadata": {},
   "source": [
    "💡 **Question 7**\n",
    "\n",
    "Given a positive integer n, generate an n x n matrix filled with elements from 1 to n2 in spiral order.\n",
    "\n",
    "**Example 1:**\n",
    "\n",
    "**Input:** n = 3\n",
    "\n",
    "**Output:** [[1,2,3],[8,9,4],[7,6,5]]"
   ]
  },
  {
   "cell_type": "code",
   "execution_count": 13,
   "id": "acbf7c35-2e7a-4b41-bf6c-402c7be6ace2",
   "metadata": {},
   "outputs": [],
   "source": [
    "###Ans_7.\n",
    "def generate_matrix(n):\n",
    "    matrix = [[0] * n for _ in range(n)]\n",
    "    num = 1\n",
    "    row = 0\n",
    "    col = 0\n",
    "    direction = 0\n",
    "    dr = [0, 1, 0, -1]\n",
    "    dc = [1, 0, -1, 0]\n",
    "    while num <= n * n:\n",
    "        matrix[row][col] = num\n",
    "        num += 1\n",
    "        nextRow = row + dr[direction]\n",
    "        nextCol = col + dc[direction]\n",
    "        if nextRow < 0 or nextRow >= n or nextCol < 0 or nextCol >= n or matrix[nextRow][nextCol] != 0:\n",
    "            direction = (direction + 1) % 4\n",
    "        row += dr[direction]\n",
    "        col += dc[direction]\n",
    "    return matrix"
   ]
  },
  {
   "cell_type": "code",
   "execution_count": 14,
   "id": "aac004fd-b0e1-45ed-8892-fbf876a8db4b",
   "metadata": {},
   "outputs": [
    {
     "data": {
      "text/plain": [
       "[[1, 2, 3], [8, 9, 4], [7, 6, 5]]"
      ]
     },
     "execution_count": 14,
     "metadata": {},
     "output_type": "execute_result"
    }
   ],
   "source": [
    "generate_matrix(3)"
   ]
  },
  {
   "cell_type": "markdown",
   "id": "03c3facf-a862-4049-b671-6cbf2da13d3a",
   "metadata": {},
   "source": [
    "💡 **Question 8**\n",
    "\n",
    "Given two [sparse matrices](https://en.wikipedia.org/wiki/Sparse_matrix) mat1 of size m x k and mat2 of size k x n, return the result of mat1 x mat2. You may assume that multiplication is always possible.\n",
    "\n",
    "**Example 1:**\n",
    "\n",
    "**Input:** mat1 = [[1,0,0],[-1,0,3]], mat2 = [[7,0,0],[0,0,0],[0,0,1]]\n",
    "\n",
    "**Output:**\n",
    "\n",
    "[[7,0,0],[-7,0,3]]"
   ]
  },
  {
   "cell_type": "code",
   "execution_count": 15,
   "id": "6fa66496-b216-4560-b72e-1a3499396073",
   "metadata": {},
   "outputs": [],
   "source": [
    "###Ans_8.\n",
    "def multiply(mat1, mat2):\n",
    "    m = len(mat1)\n",
    "    n = len(mat2[0])\n",
    "    k = len(mat2)\n",
    "    result = [[0] * n for _ in range(m)]\n",
    "\n",
    "    for i in range(m):\n",
    "        for j in range(n):\n",
    "            if mat1[i][j] != 0:\n",
    "                for p in range(k):\n",
    "                    if mat2[j][p] != 0:\n",
    "                        result[i][p] += mat1[i][j] * mat2[j][p]\n",
    "\n",
    "    return result"
   ]
  },
  {
   "cell_type": "code",
   "execution_count": 17,
   "id": "f1898cbf-be94-4160-9c54-0bea35b036ee",
   "metadata": {},
   "outputs": [
    {
     "data": {
      "text/plain": [
       "[[7, 0, 0], [-7, 0, 3]]"
      ]
     },
     "execution_count": 17,
     "metadata": {},
     "output_type": "execute_result"
    }
   ],
   "source": [
    "multiply([[1,0,0],[-1,0,3]],[[7,0,0],[0,0,0],[0,0,1]])"
   ]
  },
  {
   "cell_type": "code",
   "execution_count": null,
   "id": "09022a34-3dd4-4c7a-99e5-60e4dd142bb5",
   "metadata": {},
   "outputs": [],
   "source": []
  }
 ],
 "metadata": {
  "kernelspec": {
   "display_name": "Python 3 (ipykernel)",
   "language": "python",
   "name": "python3"
  },
  "language_info": {
   "codemirror_mode": {
    "name": "ipython",
    "version": 3
   },
   "file_extension": ".py",
   "mimetype": "text/x-python",
   "name": "python",
   "nbconvert_exporter": "python",
   "pygments_lexer": "ipython3",
   "version": "3.10.8"
  }
 },
 "nbformat": 4,
 "nbformat_minor": 5
}
